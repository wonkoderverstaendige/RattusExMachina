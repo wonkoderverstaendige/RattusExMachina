{
 "metadata": {
  "name": "",
  "signature": "sha256:79c5ec2308351be6340116dbdda1007972aeb942f25202f0003f76169368076d"
 },
 "nbformat": 3,
 "nbformat_minor": 0,
 "worksheets": [
  {
   "cells": [
    {
     "cell_type": "code",
     "collapsed": false,
     "input": [
      "import re\n",
      "import os\n",
      "import numpy as np\n",
      "from scipy import stats\n",
      "import matplotlib.pyplot as plt\n",
      "%matplotlib inline"
     ],
     "language": "python",
     "metadata": {},
     "outputs": [],
     "prompt_number": 6
    },
    {
     "cell_type": "code",
     "collapsed": false,
     "input": [
      "def mean(values):\n",
      "    return float(sum(values))/len(values)"
     ],
     "language": "python",
     "metadata": {},
     "outputs": [],
     "prompt_number": 95
    },
    {
     "cell_type": "markdown",
     "metadata": {},
     "source": [
      "# PJRC's receive test\n",
      "(host in C, variable buffer size, receiving in 500 Byte chunks)\n",
      "\n",
      "Anything below 64 bytes is not a full USB packet and waits for transmission. Above, full speed is achieved."
     ]
    },
    {
     "cell_type": "code",
     "collapsed": false,
     "input": [
      "result_path = '../src/USB_Virtual_Serial_Rcv_Speed_Test/usb_serial_receive/host_software/'\n",
      "print [f for f in os.listdir(result_path) if f.endswith('.txt')]"
     ],
     "language": "python",
     "metadata": {},
     "outputs": [
      {
       "output_type": "stream",
       "stream": "stdout",
       "text": [
        "['result_readbytes_overhead.txt', 'result_standard.txt', 'result_readbytes_spi4teensy.txt', 'result_readbytes.txt']\n"
       ]
      }
     ],
     "prompt_number": 2
    },
    {
     "cell_type": "code",
     "collapsed": false,
     "input": [
      "def read_result(filename):\n",
      "    results = {}\n",
      "    current_blocksize = None\n",
      "    with open(os.path.join(result_path, filename)) as f:\n",
      "        for line in f.readlines():\n",
      "            if line.startswith('port'):\n",
      "                current_blocksize = int(re.search('(?:size.)(\\d*)', line).groups()[0])\n",
      "                results[current_blocksize] = []\n",
      "            else:\n",
      "                results[current_blocksize].append(int(line[:-4].strip())/1000.)\n",
      "    return results"
     ],
     "language": "python",
     "metadata": {},
     "outputs": [],
     "prompt_number": 42
    },
    {
     "cell_type": "code",
     "collapsed": false,
     "input": [
      "# Example:  \n",
      "results = read_result('result_readbytes.txt')\n",
      "for bs in sorted(results.keys()):\n",
      "    speeds = results[bs]\n",
      "    print \"{bs:4d}B blocks: {avg:4.0f}\u00b1{sem:.0f} KB/s\".format(bs=bs, avg=mean(speeds), sem=stats.sem(speeds))"
     ],
     "language": "python",
     "metadata": {},
     "outputs": [
      {
       "output_type": "stream",
       "stream": "stdout",
       "text": [
        "   1B blocks:   16\u00b10 KB/s\n",
        "   2B blocks:   32\u00b10 KB/s\n",
        "   4B blocks:   64\u00b10 KB/s\n",
        "   8B blocks:  128\u00b10 KB/s\n",
        "  16B blocks:  256\u00b10 KB/s\n",
        "  32B blocks:  512\u00b11 KB/s\n",
        "  64B blocks:  959\u00b12 KB/s\n",
        " 128B blocks:  961\u00b12 KB/s\n",
        " 256B blocks:  961\u00b12 KB/s\n",
        " 512B blocks:  959\u00b13 KB/s\n",
        "1024B blocks:  961\u00b12 KB/s\n",
        "2048B blocks:  961\u00b13 KB/s\n",
        "4096B blocks:  961\u00b13 KB/s\n",
        "8192B blocks:  959\u00b12 KB/s\n"
       ]
      }
     ],
     "prompt_number": 96
    },
    {
     "cell_type": "code",
     "collapsed": false,
     "input": [
      "# Standard\n",
      "sizes, speeds_standard = zip(*[(k, mean(v)) for k, v in read_result('result_standard.txt').items()])\n",
      "\n",
      "# ReadBytes\n",
      "sizes, speeds_readbytes = zip(*[(k, mean(v)) for k, v in read_result('result_readbytes.txt').items()])\n",
      "\n",
      "# Readbytes+8us overhead per transferred SPI packet (worst case scenario?)\n",
      "sizes, speeds_readbytes_oh = zip(*[(k, mean(v)) for k, v in read_result('result_readbytes_overhead.txt').items()])\n",
      "\n",
      "# ReadBytes+spi4teensy on 8 channels\n",
      "sizes, speeds_readbytes_spi = zip(*[(k, mean(v)) for k, v in read_result('result_readbytes_spi4teensy.txt').items()])"
     ],
     "language": "python",
     "metadata": {},
     "outputs": [],
     "prompt_number": 97
    },
    {
     "cell_type": "code",
     "collapsed": false,
     "input": [
      "fig, axes = plt.subplots(nrows=1, ncols=1, figsize=(10, 5))\n",
      "\n",
      "axes.semilogx(sizes, speeds_standard, 'gx', basex=2, label='Standard')\n",
      "axes.semilogx(sizes, speeds_readbytes, 'rx', basex=2, label='ReadBytes')\n",
      "axes.semilogx(sizes, speeds_readbytes_oh, 'bx', basex=2, label='ReadBytes+OH')\n",
      "axes.semilogx(sizes, speeds_readbytes_spi, 'k+', basex=2, label='ReadBytes+spi4teensy@8channels')\n",
      "axes.set_xlabel('Block size [B]')\n",
      "axes.set_ylabel('Transfer speed [kB/s]')\n",
      "axes.legend(loc=2)\n",
      "axes.set_xlim((min(sizes)/2., max(sizes)*2))\n",
      "\n",
      "fig.tight_layout()\n",
      "#TODO: use individual values, make stats + error bars"
     ],
     "language": "python",
     "metadata": {},
     "outputs": [
      {
       "metadata": {},
       "output_type": "display_data",
       "png": "[encoded data removed]",
       "text": [
        "<matplotlib.figure.Figure at 0x7f80441d4e10>"
       ]
      }
     ],
     "prompt_number": 65
    },
    {
     "cell_type": "code",
     "collapsed": false,
     "input": [
      "import serial\n",
      "def transfer_test(n, data):\n",
      "    \"\"\" Create a long string and transfer at once!\"\"\"\n",
      "    ser.write(data)"
     ],
     "language": "python",
     "metadata": {},
     "outputs": [],
     "prompt_number": 148
    },
    {
     "cell_type": "code",
     "collapsed": false,
     "input": [
      "ser = serial.Serial('/dev/ttyACM0')\n",
      "assert ser.writable()\n",
      "n = int(1e6)\n",
      "elapsed = %timeit -o -q transfer_test(n, data=''.join([chr(i%256) for i in range(n)]))\n",
      "print \"Transferred {} KB/s\".format(n/1000./mean(elapsed.all_runs))\n",
      "ser.close()"
     ],
     "language": "python",
     "metadata": {},
     "outputs": [
      {
       "output_type": "stream",
       "stream": "stdout",
       "text": [
        "Transferred 278.867813139 KB/s\n"
       ]
      }
     ],
     "prompt_number": 160
    },
    {
     "cell_type": "code",
     "collapsed": false,
     "input": [
      "1.63*4096*3"
     ],
     "language": "python",
     "metadata": {},
     "outputs": [
      {
       "metadata": {},
       "output_type": "pyout",
       "prompt_number": 162,
       "text": [
        "20029.44"
       ]
      }
     ],
     "prompt_number": 162
    },
    {
     "cell_type": "code",
     "collapsed": false,
     "input": [
      "ser.close()"
     ],
     "language": "python",
     "metadata": {},
     "outputs": [],
     "prompt_number": 153
    },
    {
     "cell_type": "code",
     "collapsed": false,
     "input": [
      "arr = ((np.sin(np.linspace(0, 2*np.pi, num=4096))+1)/2)*4096\n",
      "arr = np.tile(arr.astype('uint16'), 10)\n",
      "plt.plot(arr)"
     ],
     "language": "python",
     "metadata": {},
     "outputs": [
      {
       "metadata": {},
       "output_type": "pyout",
       "prompt_number": 203,
       "text": [
        "[<matplotlib.lines.Line2D at 0x7f8041f79b90>]"
       ]
      },
      {
       "metadata": {},
       "output_type": "display_data",
       "png": "[encoded data removed]",
       "text": [
        "<matplotlib.figure.Figure at 0x7f804206ae90>"
       ]
      }
     ],
     "prompt_number": 203
    }
   ],
   "metadata": {}
  }
 ]
}